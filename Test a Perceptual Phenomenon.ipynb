{
 "cells": [
  {
   "cell_type": "markdown",
   "metadata": {},
   "source": [
    "### Analyzing the Stroop Effect\n",
    "Perform the analysis in the space below. Remember to follow [the instructions](https://docs.google.com/document/d/1-OkpZLjG_kX9J6LIQ5IltsqMzVWjh36QpnP2RYpVdPU/pub?embedded=True) and review the [project rubric](https://review.udacity.com/#!/rubrics/71/view) before submitting. Once you've completed the analysis and write-up, download this file as a PDF or HTML file, upload that PDF/HTML into the workspace here (click on the orange Jupyter icon in the upper left then Upload), then use the Submit Project button at the bottom of this page. This will create a zip file containing both this .ipynb doc and the PDF/HTML doc that will be submitted for your project.\n",
    "\n",
    "\n",
    "(1) What is the independent variable? What is the dependent variable?"
   ]
  },
  {
   "cell_type": "markdown",
   "metadata": {},
   "source": [
    "*independent variable:* congruent and incongruent condition [1]\n",
    "\n",
    "*dependent variable:* duration of completion the test (time)"
   ]
  },
  {
   "cell_type": "markdown",
   "metadata": {},
   "source": [
    "(2) What is an appropriate set of hypotheses for this task? Specify your null and alternative hypotheses, and clearly define any notation used. Justify your choices."
   ]
  },
  {
   "cell_type": "markdown",
   "metadata": {},
   "source": [
    "*H0* - Null Hypothesis - There is no change in the duration of completion of two reading tests (congruent or incongruent condition): $\\mu_i = \\mu_c$\n",
    "\n",
    "*H1* - Alternate Hypothesis - tests at incongruent condition take more time to complete : $\\mu_i \\neq \\mu_c$\n",
    "\n",
    "where $\\mu_i = $ population mean duration at incongruent condition and \n",
    "$\\mu_c = $ population mean duration at congruent condition\n",
    "\n",
    "Justification: To determine the statistical significant difference between the two groups (one group performs the test on congruent and the other one on incongruent conditions), we have to compare the means of the duration time of each group. Therefor, we assume that the distribution of the population are normal. "
   ]
  },
  {
   "cell_type": "markdown",
   "metadata": {},
   "source": [
    "(3) Report some descriptive statistics regarding this dataset. Include at least one measure of central tendency and at least one measure of variability. The name of the data file is 'stroopdata.csv'."
   ]
  },
  {
   "cell_type": "code",
   "execution_count": 41,
   "metadata": {},
   "outputs": [],
   "source": [
    "# Import required libraries\n",
    "\n",
    "import pandas as pd\n",
    "import numpy as np\n",
    "from scipy.stats import t\n",
    "import seaborn as sns\n",
    "import statsmodels.stats.api as sms\n",
    "import math\n",
    "sns.set_style(\"darkgrid\")\n",
    "% matplotlib inline"
   ]
  },
  {
   "cell_type": "code",
   "execution_count": 18,
   "metadata": {},
   "outputs": [
    {
     "data": {
      "text/html": [
       "<div>\n",
       "<style>\n",
       "    .dataframe thead tr:only-child th {\n",
       "        text-align: right;\n",
       "    }\n",
       "\n",
       "    .dataframe thead th {\n",
       "        text-align: left;\n",
       "    }\n",
       "\n",
       "    .dataframe tbody tr th {\n",
       "        vertical-align: top;\n",
       "    }\n",
       "</style>\n",
       "<table border=\"1\" class=\"dataframe\">\n",
       "  <thead>\n",
       "    <tr style=\"text-align: right;\">\n",
       "      <th></th>\n",
       "      <th>Congruent</th>\n",
       "      <th>Incongruent</th>\n",
       "    </tr>\n",
       "  </thead>\n",
       "  <tbody>\n",
       "    <tr>\n",
       "      <th>0</th>\n",
       "      <td>12.079</td>\n",
       "      <td>19.278</td>\n",
       "    </tr>\n",
       "    <tr>\n",
       "      <th>1</th>\n",
       "      <td>16.791</td>\n",
       "      <td>18.741</td>\n",
       "    </tr>\n",
       "    <tr>\n",
       "      <th>2</th>\n",
       "      <td>9.564</td>\n",
       "      <td>21.214</td>\n",
       "    </tr>\n",
       "    <tr>\n",
       "      <th>3</th>\n",
       "      <td>8.630</td>\n",
       "      <td>15.687</td>\n",
       "    </tr>\n",
       "    <tr>\n",
       "      <th>4</th>\n",
       "      <td>14.669</td>\n",
       "      <td>22.803</td>\n",
       "    </tr>\n",
       "    <tr>\n",
       "      <th>5</th>\n",
       "      <td>12.238</td>\n",
       "      <td>20.878</td>\n",
       "    </tr>\n",
       "    <tr>\n",
       "      <th>6</th>\n",
       "      <td>14.692</td>\n",
       "      <td>24.572</td>\n",
       "    </tr>\n",
       "    <tr>\n",
       "      <th>7</th>\n",
       "      <td>8.987</td>\n",
       "      <td>17.394</td>\n",
       "    </tr>\n",
       "    <tr>\n",
       "      <th>8</th>\n",
       "      <td>9.401</td>\n",
       "      <td>20.762</td>\n",
       "    </tr>\n",
       "    <tr>\n",
       "      <th>9</th>\n",
       "      <td>14.480</td>\n",
       "      <td>26.282</td>\n",
       "    </tr>\n",
       "    <tr>\n",
       "      <th>10</th>\n",
       "      <td>22.328</td>\n",
       "      <td>24.524</td>\n",
       "    </tr>\n",
       "    <tr>\n",
       "      <th>11</th>\n",
       "      <td>15.298</td>\n",
       "      <td>18.644</td>\n",
       "    </tr>\n",
       "    <tr>\n",
       "      <th>12</th>\n",
       "      <td>15.073</td>\n",
       "      <td>17.510</td>\n",
       "    </tr>\n",
       "    <tr>\n",
       "      <th>13</th>\n",
       "      <td>16.929</td>\n",
       "      <td>20.330</td>\n",
       "    </tr>\n",
       "    <tr>\n",
       "      <th>14</th>\n",
       "      <td>18.200</td>\n",
       "      <td>35.255</td>\n",
       "    </tr>\n",
       "    <tr>\n",
       "      <th>15</th>\n",
       "      <td>12.130</td>\n",
       "      <td>22.158</td>\n",
       "    </tr>\n",
       "    <tr>\n",
       "      <th>16</th>\n",
       "      <td>18.495</td>\n",
       "      <td>25.139</td>\n",
       "    </tr>\n",
       "    <tr>\n",
       "      <th>17</th>\n",
       "      <td>10.639</td>\n",
       "      <td>20.429</td>\n",
       "    </tr>\n",
       "    <tr>\n",
       "      <th>18</th>\n",
       "      <td>11.344</td>\n",
       "      <td>17.425</td>\n",
       "    </tr>\n",
       "    <tr>\n",
       "      <th>19</th>\n",
       "      <td>12.369</td>\n",
       "      <td>34.288</td>\n",
       "    </tr>\n",
       "    <tr>\n",
       "      <th>20</th>\n",
       "      <td>12.944</td>\n",
       "      <td>23.894</td>\n",
       "    </tr>\n",
       "    <tr>\n",
       "      <th>21</th>\n",
       "      <td>14.233</td>\n",
       "      <td>17.960</td>\n",
       "    </tr>\n",
       "    <tr>\n",
       "      <th>22</th>\n",
       "      <td>19.710</td>\n",
       "      <td>22.058</td>\n",
       "    </tr>\n",
       "    <tr>\n",
       "      <th>23</th>\n",
       "      <td>16.004</td>\n",
       "      <td>21.157</td>\n",
       "    </tr>\n",
       "  </tbody>\n",
       "</table>\n",
       "</div>"
      ],
      "text/plain": [
       "    Congruent  Incongruent\n",
       "0      12.079       19.278\n",
       "1      16.791       18.741\n",
       "2       9.564       21.214\n",
       "3       8.630       15.687\n",
       "4      14.669       22.803\n",
       "5      12.238       20.878\n",
       "6      14.692       24.572\n",
       "7       8.987       17.394\n",
       "8       9.401       20.762\n",
       "9      14.480       26.282\n",
       "10     22.328       24.524\n",
       "11     15.298       18.644\n",
       "12     15.073       17.510\n",
       "13     16.929       20.330\n",
       "14     18.200       35.255\n",
       "15     12.130       22.158\n",
       "16     18.495       25.139\n",
       "17     10.639       20.429\n",
       "18     11.344       17.425\n",
       "19     12.369       34.288\n",
       "20     12.944       23.894\n",
       "21     14.233       17.960\n",
       "22     19.710       22.058\n",
       "23     16.004       21.157"
      ]
     },
     "execution_count": 18,
     "metadata": {},
     "output_type": "execute_result"
    }
   ],
   "source": [
    "# Load data and inspect dataframe\n",
    "df = pd.read_csv('stroopdata.csv')\n",
    "df"
   ]
  },
  {
   "cell_type": "code",
   "execution_count": 19,
   "metadata": {},
   "outputs": [
    {
     "name": "stdout",
     "output_type": "stream",
     "text": [
      "Sample Size:\n",
      "Congruent group:  24\n",
      "Incongruent group:  24\n",
      "\n",
      "Measure of central tendency:\n",
      "Mean duration of congruent group:  14.051125\n",
      "Mean duration of incongruent group:  22.0159166667\n",
      "Median duration of congruent group:  14.3565\n",
      "Median duration of incongruent group:  21.0175\n",
      "\n",
      "Measure of variability:\n",
      "Standard Deviation of duration of congruent group:  3.48441571277\n",
      "Standard Deviation of duration of incongruent group:  4.69605513451\n"
     ]
    }
   ],
   "source": [
    "# Show means (as measure of tendency) and standard deviations (as measure of variability) of the congruent and incongruent group\n",
    "# Determine the sample size\n",
    "size_c = df.Congruent.size\n",
    "size_i = df.Incongruent.size\n",
    "mean_c = df.Congruent.mean()\n",
    "mean_i = df.Incongruent.mean()\n",
    "median_c = df.Congruent.median()\n",
    "median_i = df.Incongruent.median()\n",
    "std_c = np.std(df.Congruent)\n",
    "std_i = np.std(df.Incongruent)\n",
    "\n",
    "\n",
    "print('Sample Size:')\n",
    "print('Congruent group: ', size_c)\n",
    "print('Incongruent group: ', size_i)\n",
    "print('\\nMeasure of central tendency:')\n",
    "print('Mean duration of congruent group: ', mean_c)\n",
    "print('Mean duration of incongruent group: ', mean_i)\n",
    "print('Median duration of congruent group: ', median_c)\n",
    "print('Median duration of incongruent group: ', median_i)\n",
    "print('\\nMeasure of variability:')\n",
    "print('Standard Deviation of duration of congruent group: ', std_c)\n",
    "print('Standard Deviation of duration of incongruent group: ', std_i)"
   ]
  },
  {
   "cell_type": "code",
   "execution_count": 20,
   "metadata": {},
   "outputs": [
    {
     "data": {
      "text/html": [
       "<div>\n",
       "<style>\n",
       "    .dataframe thead tr:only-child th {\n",
       "        text-align: right;\n",
       "    }\n",
       "\n",
       "    .dataframe thead th {\n",
       "        text-align: left;\n",
       "    }\n",
       "\n",
       "    .dataframe tbody tr th {\n",
       "        vertical-align: top;\n",
       "    }\n",
       "</style>\n",
       "<table border=\"1\" class=\"dataframe\">\n",
       "  <thead>\n",
       "    <tr style=\"text-align: right;\">\n",
       "      <th></th>\n",
       "      <th>Congruent</th>\n",
       "      <th>Incongruent</th>\n",
       "    </tr>\n",
       "  </thead>\n",
       "  <tbody>\n",
       "    <tr>\n",
       "      <th>count</th>\n",
       "      <td>24.000000</td>\n",
       "      <td>24.000000</td>\n",
       "    </tr>\n",
       "    <tr>\n",
       "      <th>mean</th>\n",
       "      <td>14.051125</td>\n",
       "      <td>22.015917</td>\n",
       "    </tr>\n",
       "    <tr>\n",
       "      <th>std</th>\n",
       "      <td>3.559358</td>\n",
       "      <td>4.797057</td>\n",
       "    </tr>\n",
       "    <tr>\n",
       "      <th>min</th>\n",
       "      <td>8.630000</td>\n",
       "      <td>15.687000</td>\n",
       "    </tr>\n",
       "    <tr>\n",
       "      <th>25%</th>\n",
       "      <td>11.895250</td>\n",
       "      <td>18.716750</td>\n",
       "    </tr>\n",
       "    <tr>\n",
       "      <th>50%</th>\n",
       "      <td>14.356500</td>\n",
       "      <td>21.017500</td>\n",
       "    </tr>\n",
       "    <tr>\n",
       "      <th>75%</th>\n",
       "      <td>16.200750</td>\n",
       "      <td>24.051500</td>\n",
       "    </tr>\n",
       "    <tr>\n",
       "      <th>max</th>\n",
       "      <td>22.328000</td>\n",
       "      <td>35.255000</td>\n",
       "    </tr>\n",
       "  </tbody>\n",
       "</table>\n",
       "</div>"
      ],
      "text/plain": [
       "       Congruent  Incongruent\n",
       "count  24.000000    24.000000\n",
       "mean   14.051125    22.015917\n",
       "std     3.559358     4.797057\n",
       "min     8.630000    15.687000\n",
       "25%    11.895250    18.716750\n",
       "50%    14.356500    21.017500\n",
       "75%    16.200750    24.051500\n",
       "max    22.328000    35.255000"
      ]
     },
     "execution_count": 20,
     "metadata": {},
     "output_type": "execute_result"
    }
   ],
   "source": [
    "# Show further information of the dataset\n",
    "df.describe()"
   ]
  },
  {
   "cell_type": "markdown",
   "metadata": {},
   "source": [
    "(4) Provide one or two visualizations that show the distribution of the sample data. Write one or two sentences noting what you observe about the plot or plots."
   ]
  },
  {
   "cell_type": "code",
   "execution_count": 21,
   "metadata": {},
   "outputs": [
    {
     "data": {
      "image/png": "[encoded data removed]",
      "text/plain": [
       "<matplotlib.figure.Figure at 0x7f163ee73d30>"
      ]
     },
     "metadata": {},
     "output_type": "display_data"
    }
   ],
   "source": [
    "# Visualize data of congruent group\n",
    "ax = sns.distplot(df.Congruent);\n",
    "ax.set_title('Distribution of the congruent groups duration time');\n",
    "ax.set_xlabel('duration time');\n",
    "ax.set_ylabel('relative frequency');"
   ]
  },
  {
   "cell_type": "markdown",
   "metadata": {},
   "source": [
    "Observations: \n",
    "The distribution of the congruent groups sample data is nearly normal. The mean of the data is around 14 or 15."
   ]
  },
  {
   "cell_type": "code",
   "execution_count": 22,
   "metadata": {},
   "outputs": [
    {
     "data": {
      "image/png": "[encoded data removed]",
      "text/plain": [
       "<matplotlib.figure.Figure at 0x7f163ee00c88>"
      ]
     },
     "metadata": {},
     "output_type": "display_data"
    }
   ],
   "source": [
    "# Visualize data of incongruent group\n",
    "ax = sns.distplot(df.Incongruent);\n",
    "ax.set_title('Distribution of the incongruent groups duration time');\n",
    "ax.set_xlabel('duration time');\n",
    "ax.set_ylabel('relative frequency');"
   ]
  },
  {
   "cell_type": "markdown",
   "metadata": {},
   "source": [
    "Observations:\n",
    "The incongruent groups sample data is normally distributed between 10 and 30 but shows a further local maximum at the upper end of the distribution. Thus, the distribution is right skewed. The mean of the data is a bit larger than 20."
   ]
  },
  {
   "cell_type": "code",
   "execution_count": 23,
   "metadata": {},
   "outputs": [
    {
     "data": {
      "image/png": "[encoded data removed]",
      "text/plain": [
       "<matplotlib.figure.Figure at 0x7f163ed74b38>"
      ]
     },
     "metadata": {},
     "output_type": "display_data"
    }
   ],
   "source": [
    "#Compare both datasets in a boxplot\n",
    "ax = sns.boxplot(data=df, orient=\"v\",width=0.3, palette=\"colorblind\");\n",
    "ax.set_ylabel(\"duration time\");"
   ]
  },
  {
   "cell_type": "code",
   "execution_count": 24,
   "metadata": {},
   "outputs": [
    {
     "data": {
      "image/png": "[encoded data removed]",
      "text/plain": [
       "<matplotlib.figure.Figure at 0x7f163ecdac18>"
      ]
     },
     "metadata": {},
     "output_type": "display_data"
    }
   ],
   "source": [
    "#Compare distributions of both datasets\n",
    "ax = sns.distplot(df['Congruent'],label = \"Congruent\")\n",
    "ax = sns.distplot(df['Incongruent'],label = \"Incongruent\")\n",
    "ax.set_xlabel(\"duration time\");\n",
    "ax.set_ylabel(\"relative frequency\");\n",
    "ax.set_title('Distribution of the duration time of both groups');\n",
    "ax.legend();"
   ]
  },
  {
   "cell_type": "markdown",
   "metadata": {},
   "source": [
    "Overall observations: The visualizations of the data show distributions that are positively skewed. Thereby, the histogram of \n",
    "the congruent group is only slightly right skewed and appears quite normally distributed. The calculated means in (3) are pretty close to the maxima in the depicted histograms.\n",
    "Furthermore, the boxplot and the comparison of both distribution in one histogram display the difference between both datasets. The response time at congruent conditions lays between 8 and 23, while the response time at incongruent conditions is much larger (around 15.5 and 35) "
   ]
  },
  {
   "cell_type": "markdown",
   "metadata": {},
   "source": [
    "(5)  Now, perform the statistical test and report your results. What is your confidence level or Type I error associated with your test? What is your conclusion regarding the hypotheses you set up? Did the results match up with your expectations? **Hint:**  Think about what is being measured on each individual, and what statistic best captures how an individual reacts in each environment."
   ]
  },
  {
   "cell_type": "markdown",
   "metadata": {
    "collapsed": true
   },
   "source": [
    "As shown in the beginning, we will perform a two tailed paired t-test to examine the stated hypotheses. At first, we have to determine the t-critical value of our dataset with a confidence level of 95% (2.5% to 97.5%). Thus, the Type I error $\\alpha$ is 5%. The corresponding degrees of freedom can be calculated by the given size of the datasets determined above."
   ]
  },
  {
   "cell_type": "code",
   "execution_count": 38,
   "metadata": {},
   "outputs": [
    {
     "name": "stdout",
     "output_type": "stream",
     "text": [
      "For a confidence level of  0.975 % and  23  degrees of freedom, the t-critical value is  2.06865761042 .\n"
     ]
    }
   ],
   "source": [
    "# Perform a statistical t-test with confidence level 'conflevel' and degrees of freedom 'degfree' using the scipy.stats lib\n",
    "degfree = size_c - 1\n",
    "conflevel = 0.975\n",
    "\n",
    "# t-critical_value\n",
    "t_crit = t.ppf(conflevel,degfree)\n",
    "\n",
    "print('For a confidence level of ', conflevel,'% and ', degfree,' degrees of freedom, the t-critical value is ', t_crit,'.')"
   ]
  },
  {
   "cell_type": "markdown",
   "metadata": {},
   "source": [
    "For further examinations, we have to observe the difference between the datasets regarding our hypotheses which can be converted into:\n",
    "\n",
    "*H0*: $\\mu_i - \\mu_c = 0$\n",
    "\n",
    "*H1*: $\\mu_i - \\mu_c \\neq 0$"
   ]
  },
  {
   "cell_type": "code",
   "execution_count": 39,
   "metadata": {},
   "outputs": [
    {
     "data": {
      "text/html": [
       "<div>\n",
       "<style>\n",
       "    .dataframe thead tr:only-child th {\n",
       "        text-align: right;\n",
       "    }\n",
       "\n",
       "    .dataframe thead th {\n",
       "        text-align: left;\n",
       "    }\n",
       "\n",
       "    .dataframe tbody tr th {\n",
       "        vertical-align: top;\n",
       "    }\n",
       "</style>\n",
       "<table border=\"1\" class=\"dataframe\">\n",
       "  <thead>\n",
       "    <tr style=\"text-align: right;\">\n",
       "      <th></th>\n",
       "      <th>Congruent</th>\n",
       "      <th>Incongruent</th>\n",
       "      <th>diffs</th>\n",
       "    </tr>\n",
       "  </thead>\n",
       "  <tbody>\n",
       "    <tr>\n",
       "      <th>0</th>\n",
       "      <td>12.079</td>\n",
       "      <td>19.278</td>\n",
       "      <td>-7.199</td>\n",
       "    </tr>\n",
       "    <tr>\n",
       "      <th>1</th>\n",
       "      <td>16.791</td>\n",
       "      <td>18.741</td>\n",
       "      <td>-1.950</td>\n",
       "    </tr>\n",
       "    <tr>\n",
       "      <th>2</th>\n",
       "      <td>9.564</td>\n",
       "      <td>21.214</td>\n",
       "      <td>-11.650</td>\n",
       "    </tr>\n",
       "    <tr>\n",
       "      <th>3</th>\n",
       "      <td>8.630</td>\n",
       "      <td>15.687</td>\n",
       "      <td>-7.057</td>\n",
       "    </tr>\n",
       "    <tr>\n",
       "      <th>4</th>\n",
       "      <td>14.669</td>\n",
       "      <td>22.803</td>\n",
       "      <td>-8.134</td>\n",
       "    </tr>\n",
       "    <tr>\n",
       "      <th>5</th>\n",
       "      <td>12.238</td>\n",
       "      <td>20.878</td>\n",
       "      <td>-8.640</td>\n",
       "    </tr>\n",
       "    <tr>\n",
       "      <th>6</th>\n",
       "      <td>14.692</td>\n",
       "      <td>24.572</td>\n",
       "      <td>-9.880</td>\n",
       "    </tr>\n",
       "    <tr>\n",
       "      <th>7</th>\n",
       "      <td>8.987</td>\n",
       "      <td>17.394</td>\n",
       "      <td>-8.407</td>\n",
       "    </tr>\n",
       "    <tr>\n",
       "      <th>8</th>\n",
       "      <td>9.401</td>\n",
       "      <td>20.762</td>\n",
       "      <td>-11.361</td>\n",
       "    </tr>\n",
       "    <tr>\n",
       "      <th>9</th>\n",
       "      <td>14.480</td>\n",
       "      <td>26.282</td>\n",
       "      <td>-11.802</td>\n",
       "    </tr>\n",
       "    <tr>\n",
       "      <th>10</th>\n",
       "      <td>22.328</td>\n",
       "      <td>24.524</td>\n",
       "      <td>-2.196</td>\n",
       "    </tr>\n",
       "    <tr>\n",
       "      <th>11</th>\n",
       "      <td>15.298</td>\n",
       "      <td>18.644</td>\n",
       "      <td>-3.346</td>\n",
       "    </tr>\n",
       "    <tr>\n",
       "      <th>12</th>\n",
       "      <td>15.073</td>\n",
       "      <td>17.510</td>\n",
       "      <td>-2.437</td>\n",
       "    </tr>\n",
       "    <tr>\n",
       "      <th>13</th>\n",
       "      <td>16.929</td>\n",
       "      <td>20.330</td>\n",
       "      <td>-3.401</td>\n",
       "    </tr>\n",
       "    <tr>\n",
       "      <th>14</th>\n",
       "      <td>18.200</td>\n",
       "      <td>35.255</td>\n",
       "      <td>-17.055</td>\n",
       "    </tr>\n",
       "    <tr>\n",
       "      <th>15</th>\n",
       "      <td>12.130</td>\n",
       "      <td>22.158</td>\n",
       "      <td>-10.028</td>\n",
       "    </tr>\n",
       "    <tr>\n",
       "      <th>16</th>\n",
       "      <td>18.495</td>\n",
       "      <td>25.139</td>\n",
       "      <td>-6.644</td>\n",
       "    </tr>\n",
       "    <tr>\n",
       "      <th>17</th>\n",
       "      <td>10.639</td>\n",
       "      <td>20.429</td>\n",
       "      <td>-9.790</td>\n",
       "    </tr>\n",
       "    <tr>\n",
       "      <th>18</th>\n",
       "      <td>11.344</td>\n",
       "      <td>17.425</td>\n",
       "      <td>-6.081</td>\n",
       "    </tr>\n",
       "    <tr>\n",
       "      <th>19</th>\n",
       "      <td>12.369</td>\n",
       "      <td>34.288</td>\n",
       "      <td>-21.919</td>\n",
       "    </tr>\n",
       "    <tr>\n",
       "      <th>20</th>\n",
       "      <td>12.944</td>\n",
       "      <td>23.894</td>\n",
       "      <td>-10.950</td>\n",
       "    </tr>\n",
       "    <tr>\n",
       "      <th>21</th>\n",
       "      <td>14.233</td>\n",
       "      <td>17.960</td>\n",
       "      <td>-3.727</td>\n",
       "    </tr>\n",
       "    <tr>\n",
       "      <th>22</th>\n",
       "      <td>19.710</td>\n",
       "      <td>22.058</td>\n",
       "      <td>-2.348</td>\n",
       "    </tr>\n",
       "    <tr>\n",
       "      <th>23</th>\n",
       "      <td>16.004</td>\n",
       "      <td>21.157</td>\n",
       "      <td>-5.153</td>\n",
       "    </tr>\n",
       "  </tbody>\n",
       "</table>\n",
       "</div>"
      ],
      "text/plain": [
       "    Congruent  Incongruent   diffs\n",
       "0      12.079       19.278  -7.199\n",
       "1      16.791       18.741  -1.950\n",
       "2       9.564       21.214 -11.650\n",
       "3       8.630       15.687  -7.057\n",
       "4      14.669       22.803  -8.134\n",
       "5      12.238       20.878  -8.640\n",
       "6      14.692       24.572  -9.880\n",
       "7       8.987       17.394  -8.407\n",
       "8       9.401       20.762 -11.361\n",
       "9      14.480       26.282 -11.802\n",
       "10     22.328       24.524  -2.196\n",
       "11     15.298       18.644  -3.346\n",
       "12     15.073       17.510  -2.437\n",
       "13     16.929       20.330  -3.401\n",
       "14     18.200       35.255 -17.055\n",
       "15     12.130       22.158 -10.028\n",
       "16     18.495       25.139  -6.644\n",
       "17     10.639       20.429  -9.790\n",
       "18     11.344       17.425  -6.081\n",
       "19     12.369       34.288 -21.919\n",
       "20     12.944       23.894 -10.950\n",
       "21     14.233       17.960  -3.727\n",
       "22     19.710       22.058  -2.348\n",
       "23     16.004       21.157  -5.153"
      ]
     },
     "execution_count": 39,
     "metadata": {},
     "output_type": "execute_result"
    }
   ],
   "source": [
    "df['diffs'] = df.Congruent - df.Incongruent\n",
    "df"
   ]
  },
  {
   "cell_type": "code",
   "execution_count": 36,
   "metadata": {},
   "outputs": [
    {
     "name": "stdout",
     "output_type": "stream",
     "text": [
      "Mean of difference:  -7.96479166667\n",
      "Median of difference:  -7.666499999999999\n",
      "Standard deviation of difference:  4.86482691036\n",
      "Confidence interval 95% of difference: ( -10.4246981882 , -5.50488514517 )\n"
     ]
    }
   ],
   "source": [
    "# Calculate the statistics of the difference\n",
    "# we use the built-in functions of the statsmodels.stats.api library to determine the confidence interval \n",
    "mean_diffs = df.diffs.mean()\n",
    "median_diffs = df.diffs.median()\n",
    "std_diffs = df.diffs.std()\n",
    "cm = sms.CompareMeans(sms.DescrStatsW(df.Congruent),sms.DescrStatsW(df.Incongruent))\n",
    "lowbound_diffs,upbound_diffs = cm.tconfint_diff(alpha=0.05,usevar='unequal')\n",
    "\n",
    "print('Mean of difference: ',mean_diffs)\n",
    "print('Median of difference: ',median_diffs)\n",
    "print('Standard deviation of difference: ',std_diffs)\n",
    "print('Confidence interval 95% of difference: (',lowbound_diffs,',',upbound_diffs,')')\n"
   ]
  },
  {
   "cell_type": "code",
   "execution_count": 43,
   "metadata": {},
   "outputs": [
    {
     "name": "stdout",
     "output_type": "stream",
     "text": [
      "t-value:  -8.02070694411\n"
     ]
    }
   ],
   "source": [
    "# Calculate the t-value\n",
    "t_val = mean_diffs/(std_diffs/math.sqrt(size_c))\n",
    "print('t-value: ',t_val)"
   ]
  },
  {
   "cell_type": "markdown",
   "metadata": {},
   "source": [
    "The critical t-value ($\\pm 2.069$) is much larger than the calculated t-value (-8.0207) in our t-statistic for the means of the duration in colour recognition. Thus, the t-statistic is in the critical region and the Null hypothesis H0 is rejected.\n",
    "\n",
    "##### Answer: Null hypothesis rejected\n",
    "At Type I error $alpha=0.05$, the mean duration of completing a test at incongruent conditions is significantly larger than mean time needed for completing a test at congruent conditions. The confidence interval of the difference between durations at the examined conditions is between -10.4247 and -5.5049."
   ]
  },
  {
   "cell_type": "markdown",
   "metadata": {},
   "source": [
    "(6) Optional: What do you think is responsible for the effects observed? Can you think of an alternative or similar task that would result in a similar effect? Some research about the problem will be helpful for thinking about these two questions!"
   ]
  },
  {
   "cell_type": "markdown",
   "metadata": {},
   "source": [
    "##### Causes of the Stroop effect\n",
    "- The brains processing speed to recognize the color of a word differs from the ability and speed to read a word. The word processing is significantly faster than the color processing, causing a confusion if a incongruent condition exists. [2]\n",
    "- The human brain also handles a lot of things automatically. Since, the brain understands words automatically and does not need to be controlled, recognizing colors is not an \"automatic process\". An incongruent state between the word and its color can affect this automaticity and increase the response time. [1]\n",
    "- Another cause is the selective attention the brain needs to recognize a color than encode a word. Thus, the brain needs more time to process the information especially when the word is not congruent with its color.\n",
    "\n",
    "##### Alternatives\n",
    "Similar results in comparison to the original Stroop effect can be achieved using numbers that can be displayed in different sizes incongruent to their actual numerical values. (Numerical Stroop effect, [3])"
   ]
  },
  {
   "cell_type": "markdown",
   "metadata": {},
   "source": [
    "### References\n",
    "[1] https://en.wikipedia.org/wiki/Stroop_effect\n",
    "\n",
    "[2] https://www.wisegeek.com/what-is-the-stroop-effect.htm\n",
    "\n",
    "[3] https://en.wikipedia.org/wiki/Numerical_Stroop_effect"
   ]
  }
 ],
 "metadata": {
  "kernelspec": {
   "display_name": "Python 3",
   "language": "python",
   "name": "python3"
  },
  "language_info": {
   "codemirror_mode": {
    "name": "ipython",
    "version": 3
   },
   "file_extension": ".py",
   "mimetype": "text/x-python",
   "name": "python",
   "nbconvert_exporter": "python",
   "pygments_lexer": "ipython3",
   "version": "3.6.3"
  }
 },
 "nbformat": 4,
 "nbformat_minor": 2
}
